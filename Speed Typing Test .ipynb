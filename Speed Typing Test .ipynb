{
 "cells": [
  {
   "cell_type": "code",
   "execution_count": 3,
   "id": "9473dda6",
   "metadata": {},
   "outputs": [
    {
     "name": "stdout",
     "output_type": "stream",
     "text": [
      "Welcome to the Speed Typing Test!\n",
      "Type the following sentence as fast and accurately as possible:\n",
      "Sally sells sea shells by the sea shore.\n",
      "Press Enter when you are ready to start.\n",
      "Start typing: sally sells sea shells by the sea shore\n",
      "Typing Speed: 22.39 words per minute\n",
      "Accuracy: 75.00%\n"
     ]
    }
   ],
   "source": [
    "import random\n",
    "import time\n",
    "\n",
    "def get_random_sentence():\n",
    "    # List of sentences for the typing test\n",
    "    sentences = [\n",
    "        \"The quick brown fox jumps over the lazy dog.\",\n",
    "        \"She sells seashells by the seashore.\",\n",
    "        \"How much wood would a woodchuck chuck if a woodchuck could chuck wood?\",\n",
    "        \"Peter Piper picked a peck of pickled peppers.\",\n",
    "        \"Sally sells sea shells by the sea shore.\"\n",
    "        # Add more sentences here\n",
    "    ]\n",
    "    # Choose a random sentence from the list\n",
    "    return random.choice(sentences)\n",
    "\n",
    "def calculate_typing_speed(start_time, end_time, typed_text):\n",
    "    # Calculate the elapsed time in seconds\n",
    "    elapsed_time = end_time - start_time\n",
    "    # Calculate the typing speed in words per minute (WPM)\n",
    "    # We assume that the average word takes 5 characters, including spaces\n",
    "    words_typed = len(typed_text) / 5\n",
    "    minutes = elapsed_time / 60\n",
    "    wpm = words_typed / minutes\n",
    "    return wpm\n",
    "\n",
    "def calculate_accuracy(original_text, typed_text):\n",
    "    # Split the original and typed texts into individual words\n",
    "    original_words = original_text.split()\n",
    "    typed_words = typed_text.split()\n",
    "\n",
    "    # Initialize a variable to count the number of correctly typed words\n",
    "    correct_words = 0\n",
    "\n",
    "    # Compare each word in the original and typed texts\n",
    "    for i in range(min(len(original_words), len(typed_words))):\n",
    "        if original_words[i] == typed_words[i]:\n",
    "            correct_words += 1\n",
    "\n",
    "    # Calculate the accuracy as a percentage\n",
    "    accuracy = (correct_words / len(original_words)) * 100\n",
    "    return accuracy\n",
    "\n",
    "def main():\n",
    "    print(\"Welcome to the Speed Typing Test!\")\n",
    "    print(\"Type the following sentence as fast and accurately as possible:\")\n",
    "    # Get a random sentence for the typing test\n",
    "    sentence = get_random_sentence()\n",
    "    print(sentence)\n",
    "\n",
    "    # Prompt the user to start the test\n",
    "    input(\"Press Enter when you are ready to start.\")\n",
    "    # Record the starting time\n",
    "    start_time = time.time()\n",
    "\n",
    "    # Get the user's typed text\n",
    "    typed_text = input(\"Start typing: \")\n",
    "    # Record the ending time\n",
    "    end_time = time.time()\n",
    "\n",
    "    # Calculate and display the typing speed and accuracy\n",
    "    typing_speed = calculate_typing_speed(start_time, end_time, typed_text)\n",
    "    accuracy = calculate_accuracy(sentence, typed_text)\n",
    "\n",
    "    print(f\"Typing Speed: {typing_speed:.2f} words per minute\")\n",
    "    print(f\"Accuracy: {accuracy:.2f}%\")\n",
    "\n",
    "if __name__ == \"__main__\":\n",
    "    main()"
   ]
  },
  {
   "cell_type": "code",
   "execution_count": null,
   "id": "6a50ae78",
   "metadata": {},
   "outputs": [],
   "source": []
  }
 ],
 "metadata": {
  "kernelspec": {
   "display_name": "Python 3 (ipykernel)",
   "language": "python",
   "name": "python3"
  },
  "language_info": {
   "codemirror_mode": {
    "name": "ipython",
    "version": 3
   },
   "file_extension": ".py",
   "mimetype": "text/x-python",
   "name": "python",
   "nbconvert_exporter": "python",
   "pygments_lexer": "ipython3",
   "version": "3.11.3"
  }
 },
 "nbformat": 4,
 "nbformat_minor": 5
}
